{
 "cells": [
  {
   "cell_type": "markdown",
   "metadata": {},
   "source": [
    "# MultiNomial Regression (Softmax Clf)"
   ]
  },
  {
   "cell_type": "markdown",
   "metadata": {},
   "source": [
    "* [강의자료](https://www.youtube.com/watch?v=B3gtAi-wlG8&list=PLQ28Nx3M4JrhkqBVIXg-i5_CVVoS1UzAv&index=9)\n",
    "* [코드자료](https://github.com/deeplearningzerotoall/PyTorch/blob/master/lab-06_1_softmax_classification.ipynb)\n",
    "* [코드자료](https://github.com/deeplearningzerotoall/PyTorch/blob/master/lab-06_2_fancy_softmax_classification.ipynb)"
   ]
  },
  {
   "cell_type": "markdown",
   "metadata": {},
   "source": [
    "## Module"
   ]
  },
  {
   "cell_type": "code",
   "execution_count": 1,
   "metadata": {},
   "outputs": [],
   "source": [
    "import torch\n",
    "import torch.nn as nn\n",
    "import torch.nn.functional as F\n",
    "import torch.optim as optim"
   ]
  },
  {
   "cell_type": "code",
   "execution_count": 2,
   "metadata": {},
   "outputs": [
    {
     "data": {
      "text/plain": [
       "<torch._C.Generator at 0x237f8196b50>"
      ]
     },
     "execution_count": 2,
     "metadata": {},
     "output_type": "execute_result"
    }
   ],
   "source": [
    "torch.manual_seed(42)"
   ]
  },
  {
   "cell_type": "code",
   "execution_count": 3,
   "metadata": {},
   "outputs": [
    {
     "data": {
      "text/plain": [
       "(torch.Size([8, 4]), torch.Size([8]))"
      ]
     },
     "execution_count": 3,
     "metadata": {},
     "output_type": "execute_result"
    }
   ],
   "source": [
    "# data\n",
    "x_train = [[1, 2, 1, 1],\n",
    "           [2, 1, 3, 2],\n",
    "           [3, 1, 3, 4],\n",
    "           [4, 1, 5, 5],\n",
    "           [1, 7, 5, 5],\n",
    "           [1, 2, 5, 6],\n",
    "           [1, 6, 6, 6],\n",
    "           [1, 7, 7, 7]]\n",
    "y_train = [2, 2, 2, 1, 1, 1, 0, 0]\n",
    "\n",
    "x_train = torch.FloatTensor(x_train)\n",
    "y_train = torch.LongTensor(y_train)\n",
    "x_train.shape, y_train.shape"
   ]
  },
  {
   "cell_type": "code",
   "execution_count": 4,
   "metadata": {},
   "outputs": [],
   "source": [
    "# weights\n",
    "W = torch.zeros((4, 3), requires_grad=True)\n",
    "b = torch.zeros(1, requires_grad=True)"
   ]
  },
  {
   "cell_type": "code",
   "execution_count": 5,
   "metadata": {},
   "outputs": [],
   "source": [
    "# optimizer\n",
    "optimizer = optim.SGD([W,b], lr=0.1)"
   ]
  },
  {
   "cell_type": "code",
   "execution_count": 6,
   "metadata": {},
   "outputs": [
    {
     "name": "stdout",
     "output_type": "stream",
     "text": [
      "Epoch  100/1000 Cost: 0.714269\n",
      "Epoch  200/1000 Cost: 0.638430\n",
      "Epoch  300/1000 Cost: 0.591186\n",
      "Epoch  400/1000 Cost: 0.554105\n",
      "Epoch  500/1000 Cost: 0.522028\n",
      "Epoch  600/1000 Cost: 0.492792\n",
      "Epoch  700/1000 Cost: 0.465232\n",
      "Epoch  800/1000 Cost: 0.438588\n",
      "Epoch  900/1000 Cost: 0.412274\n",
      "Epoch 1000/1000 Cost: 0.385798\n"
     ]
    }
   ],
   "source": [
    "nb_epochs = 1000\n",
    "for epoch in range(1, nb_epochs + 1):\n",
    "    \n",
    "    # hypothesis - softmax\n",
    "    hypothesis = F.softmax(x_train.matmul(W) + b, dim=1)\n",
    "    \n",
    "    # y_one_hot\n",
    "    y_one_hot = torch.zeros_like(hypothesis)\n",
    "    y_one_hot.scatter_(1, y_train.unsqueeze(1), 1)\n",
    "    \n",
    "    # cost function\n",
    "    cost = -(y_one_hot * torch.log(hypothesis)).sum(dim=1).mean()\n",
    "\n",
    "    optimizer.zero_grad()\n",
    "    cost.backward()\n",
    "    optimizer.step()\n",
    "\n",
    "    # 100번마다 로그 출력\n",
    "    if epoch % 100 == 0:\n",
    "        print('Epoch {:4d}/{} Cost: {:.6f}'.format(\n",
    "            epoch, nb_epochs, cost.item()\n",
    "        ))"
   ]
  },
  {
   "cell_type": "code",
   "execution_count": 7,
   "metadata": {},
   "outputs": [
    {
     "name": "stdout",
     "output_type": "stream",
     "text": [
      "tensor(0.4000, grad_fn=<NegBackward>)\n",
      "tensor(0.4000, grad_fn=<NegBackward>)\n",
      "tensor(0.4000, grad_fn=<NllLossBackward>)\n",
      "tensor(0.4000, grad_fn=<NllLossBackward>)\n"
     ]
    }
   ],
   "source": [
    "# scratch\n",
    "hypothesis = F.softmax(x_train.matmul(W) + b, dim=1)\n",
    "y_one_hot = torch.zeros_like(hypothesis)\n",
    "y_one_hot.scatter_(1, y_train.unsqueeze(1), 1)\n",
    "cost = -(y_one_hot * torch.log(hypothesis)).sum(dim=1).mean()\n",
    "print(cost)\n",
    "\n",
    "# same 1\n",
    "y_one_hot = torch.zeros_like(hypothesis)\n",
    "y_one_hot.scatter_(1, y_train.unsqueeze(1), 1)\n",
    "cost = -(y_one_hot * F.log_softmax(x_train.matmul(W) + b, dim=1)).sum(dim=1).mean()\n",
    "print(cost)\n",
    "\n",
    "# same 2\n",
    "print(F.nll_loss(F.log_softmax(x_train.matmul(W) + b, dim=1), y_train))\n",
    "\n",
    "# same 3\n",
    "print(F.cross_entropy(x_train.matmul(W) + b, y_train))"
   ]
  },
  {
   "cell_type": "markdown",
   "metadata": {},
   "source": [
    "## using pytorch method"
   ]
  },
  {
   "cell_type": "code",
   "execution_count": 8,
   "metadata": {},
   "outputs": [],
   "source": [
    "class SoftmaxClassifier(nn.Module):\n",
    "    def __init__(self, input_shape, output_shape):\n",
    "        super().__init__()\n",
    "        self.linear = nn.Linear(input_shape, output_shape)\n",
    "    \n",
    "    def forward(self, x):\n",
    "        return self.linear(x)"
   ]
  },
  {
   "cell_type": "code",
   "execution_count": 9,
   "metadata": {},
   "outputs": [],
   "source": [
    "# constants\n",
    "input_shape = x_train.shape[-1]\n",
    "output_shape = y_train.unique().__len__()\n",
    "learning_rate = 0.1"
   ]
  },
  {
   "cell_type": "code",
   "execution_count": 10,
   "metadata": {},
   "outputs": [],
   "source": [
    "# model and optimizer\n",
    "model = SoftmaxClassifier(input_shape, output_shape)\n",
    "optimizer = optim.SGD(model.parameters(), lr=learning_rate)"
   ]
  },
  {
   "cell_type": "code",
   "execution_count": 11,
   "metadata": {},
   "outputs": [
    {
     "name": "stdout",
     "output_type": "stream",
     "text": [
      "Epoch  100/1000 Cost: 0.670299\n",
      "Epoch  200/1000 Cost: 0.581678\n",
      "Epoch  300/1000 Cost: 0.525373\n",
      "Epoch  400/1000 Cost: 0.479959\n",
      "Epoch  500/1000 Cost: 0.439910\n",
      "Epoch  600/1000 Cost: 0.402833\n",
      "Epoch  700/1000 Cost: 0.367230\n",
      "Epoch  800/1000 Cost: 0.331915\n",
      "Epoch  900/1000 Cost: 0.295977\n",
      "Epoch 1000/1000 Cost: 0.260169\n"
     ]
    }
   ],
   "source": [
    "nb_epochs = 1000\n",
    "for epoch in range(1, nb_epochs + 1):\n",
    "\n",
    "    # H(x) 계산\n",
    "    prediction = model(x_train)\n",
    "\n",
    "    # cost 계산\n",
    "    cost = F.cross_entropy(prediction, y_train)\n",
    "\n",
    "    # cost로 H(x) 개선\n",
    "    optimizer.zero_grad()\n",
    "    cost.backward()\n",
    "    optimizer.step()\n",
    "    \n",
    "    # 20번마다 로그 출력\n",
    "    if epoch % 100 == 0:\n",
    "        print('Epoch {:4d}/{} Cost: {:.6f}'.format(\n",
    "            epoch, nb_epochs, cost.item()\n",
    "        ))"
   ]
  }
 ],
 "metadata": {
  "kernelspec": {
   "display_name": "Python 3",
   "language": "python",
   "name": "python3"
  },
  "language_info": {
   "codemirror_mode": {
    "name": "ipython",
    "version": 3
   },
   "file_extension": ".py",
   "mimetype": "text/x-python",
   "name": "python",
   "nbconvert_exporter": "python",
   "pygments_lexer": "ipython3",
   "version": "3.6.7"
  }
 },
 "nbformat": 4,
 "nbformat_minor": 2
}
