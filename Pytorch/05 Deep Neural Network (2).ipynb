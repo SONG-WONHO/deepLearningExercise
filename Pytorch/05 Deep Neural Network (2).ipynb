{
 "cells": [
  {
   "cell_type": "markdown",
   "metadata": {},
   "source": [
    "# Deep Neural Network (2)\n",
    "\n",
    "* Convergence 0 문제 해결"
   ]
  },
  {
   "cell_type": "markdown",
   "metadata": {},
   "source": [
    "* [강의출처](https://www.youtube.com/watch?v=KofAX-K4dk4&list=PLQ28Nx3M4JrhkqBVIXg-i5_CVVoS1UzAv&index=12)\n",
    "* [코드출처](https://github.com/deeplearningzerotoall/PyTorch/blob/master/lab-08_1_xor.ipynb)\n",
    "* [코드출처](https://github.com/deeplearningzerotoall/PyTorch/blob/master/lab-08_2_xor_nn.ipynb)"
   ]
  },
  {
   "cell_type": "markdown",
   "metadata": {},
   "source": [
    "## Solve Convergence 0 Promblem"
   ]
  },
  {
   "cell_type": "code",
   "execution_count": 201,
   "metadata": {},
   "outputs": [],
   "source": [
    "import torch\n",
    "import torch.nn as nn\n",
    "import torch.nn.functional as F\n",
    "import torch.optim as optim"
   ]
  },
  {
   "cell_type": "code",
   "execution_count": 202,
   "metadata": {},
   "outputs": [],
   "source": [
    "device = 'cuda' if torch.cuda.is_available() else 'cpu'\n",
    "\n",
    "# for reproducibility\n",
    "torch.manual_seed(42)\n",
    "if device == 'cuda':\n",
    "    torch.cuda.manual_seed_all(42)"
   ]
  },
  {
   "cell_type": "code",
   "execution_count": 203,
   "metadata": {},
   "outputs": [],
   "source": [
    "# data\n",
    "X = torch.FloatTensor([[0, 0], [0, 1], [1, 0], [1, 1]]).to(device)\n",
    "Y = torch.FloatTensor([[0], [1], [1], [0]]).to(device)"
   ]
  },
  {
   "cell_type": "code",
   "execution_count": 441,
   "metadata": {},
   "outputs": [],
   "source": [
    "# model\n",
    "layer1 = nn.Linear(2, 2, bias=True)\n",
    "layer2 = nn.Linear(2, 2, bias=True)\n",
    "layer3 = nn.Linear(2, 2, bias=True)\n",
    "layer4 = nn.Linear(2, 2, bias=True)\n",
    "layer5 = nn.Linear(2, 2, bias=True)\n",
    "layer6 = nn.Linear(2, 2, bias=True)\n",
    "layer7 = nn.Linear(2, 2, bias=True)\n",
    "layer8 = nn.Linear(2, 2, bias=True)\n",
    "layer9 = nn.Linear(2, 2, bias=True)\n",
    "layer10 = nn.Linear(2, 1, bias=True)\n",
    "activation = nn.ReLU()\n",
    "sigmoid = nn.Sigmoid()\n",
    "\n",
    "model = nn.Sequential(layer1, \n",
    "                      activation, \n",
    "                      layer2,\n",
    "                      activation,\n",
    "                      layer3,\n",
    "                      activation,\n",
    "                      layer4,\n",
    "                      activation,\n",
    "                      layer5,\n",
    "                      activation,\n",
    "                      layer6,\n",
    "                      activation,\n",
    "                      layer7,\n",
    "                      activation,\n",
    "                      layer8,\n",
    "                      activation,\n",
    "                      layer9,\n",
    "                      activation,\n",
    "                      layer10,\n",
    "                      sigmoid\n",
    "                     ).to(device)"
   ]
  },
  {
   "cell_type": "code",
   "execution_count": 442,
   "metadata": {},
   "outputs": [],
   "source": [
    "def init_weights(layer):\n",
    "    if isinstance(layer, nn.Linear):\n",
    "        nn.init.xavier_normal_(layer.weight)"
   ]
  },
  {
   "cell_type": "code",
   "execution_count": 443,
   "metadata": {},
   "outputs": [
    {
     "data": {
      "text/plain": [
       "Sequential(\n",
       "  (0): Linear(in_features=2, out_features=2, bias=True)\n",
       "  (1): ReLU()\n",
       "  (2): Linear(in_features=2, out_features=2, bias=True)\n",
       "  (3): ReLU()\n",
       "  (4): Linear(in_features=2, out_features=2, bias=True)\n",
       "  (5): ReLU()\n",
       "  (6): Linear(in_features=2, out_features=2, bias=True)\n",
       "  (7): ReLU()\n",
       "  (8): Linear(in_features=2, out_features=2, bias=True)\n",
       "  (9): ReLU()\n",
       "  (10): Linear(in_features=2, out_features=2, bias=True)\n",
       "  (11): ReLU()\n",
       "  (12): Linear(in_features=2, out_features=2, bias=True)\n",
       "  (13): ReLU()\n",
       "  (14): Linear(in_features=2, out_features=2, bias=True)\n",
       "  (15): ReLU()\n",
       "  (16): Linear(in_features=2, out_features=2, bias=True)\n",
       "  (17): ReLU()\n",
       "  (18): Linear(in_features=2, out_features=1, bias=True)\n",
       "  (19): Sigmoid()\n",
       ")"
      ]
     },
     "execution_count": 443,
     "metadata": {},
     "output_type": "execute_result"
    }
   ],
   "source": [
    "model.apply(init_weights)"
   ]
  },
  {
   "cell_type": "code",
   "execution_count": 444,
   "metadata": {},
   "outputs": [],
   "source": [
    "# optimizer\n",
    "optimizer = optim.SGD(model.parameters(), lr=1)"
   ]
  },
  {
   "cell_type": "code",
   "execution_count": 445,
   "metadata": {},
   "outputs": [
    {
     "name": "stdout",
     "output_type": "stream",
     "text": [
      "1000 0.6931471824645996\n"
     ]
    }
   ],
   "source": [
    "nb_epochs = 1000\n",
    "\n",
    "for epoch in range(1, nb_epochs+1):\n",
    "    \n",
    "    hypothesis = model(X)\n",
    "    cost = F.binary_cross_entropy(hypothesis, Y)\n",
    "    \n",
    "    optimizer.zero_grad()\n",
    "    cost.backward()\n",
    "    optimizer.step()\n",
    "    \n",
    "    if epoch % 1000 == 0:\n",
    "        print(epoch, cost.item())\n"
   ]
  }
 ],
 "metadata": {
  "kernelspec": {
   "display_name": "Python 3",
   "language": "python",
   "name": "python3"
  },
  "language_info": {
   "codemirror_mode": {
    "name": "ipython",
    "version": 3
   },
   "file_extension": ".py",
   "mimetype": "text/x-python",
   "name": "python",
   "nbconvert_exporter": "python",
   "pygments_lexer": "ipython3",
   "version": "3.6.7"
  }
 },
 "nbformat": 4,
 "nbformat_minor": 2
}
