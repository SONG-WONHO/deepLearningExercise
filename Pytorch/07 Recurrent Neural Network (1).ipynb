{
 "cells": [
  {
   "cell_type": "markdown",
   "metadata": {},
   "source": [
    "# 07 Recurrent Neural Network (1)\n",
    "* many to many (character, long character)\n",
    "* many to one (stocks)"
   ]
  },
  {
   "cell_type": "markdown",
   "metadata": {},
   "source": [
    "* [강의출처](https://www.youtube.com/watch?v=37jxyHXzxU4&list=PLQ28Nx3M4JrhkqBVIXg-i5_CVVoS1UzAv&index=29&t=0s)"
   ]
  },
  {
   "cell_type": "markdown",
   "metadata": {},
   "source": [
    "## Summary\n",
    "\n",
    "* one_hot 하는 스킬 (np.eye)"
   ]
  },
  {
   "cell_type": "markdown",
   "metadata": {},
   "source": [
    "# Ex) Hihello"
   ]
  },
  {
   "cell_type": "code",
   "execution_count": 540,
   "metadata": {},
   "outputs": [],
   "source": [
    "import torch\n",
    "import torch.nn as nn\n",
    "import torch.optim as optim\n",
    "import torch.nn.functional as F\n",
    "\n",
    "import numpy as np\n",
    "import pandas as pd\n",
    "import matplotlib.pyplot as plt\n",
    "\n",
    "# mnist dataset\n",
    "import torchvision.datasets as dsets\n",
    "import torchvision.transforms as transforms"
   ]
  },
  {
   "cell_type": "code",
   "execution_count": 130,
   "metadata": {},
   "outputs": [],
   "source": [
    "device = 'cuda' if torch.cuda.is_available() else 'cpu'\n",
    "\n",
    "# for reproducibility\n",
    "torch.manual_seed(42)\n",
    "if device == 'cuda':\n",
    "    torch.cuda.manual_seed_all(42)"
   ]
  },
  {
   "cell_type": "code",
   "execution_count": 131,
   "metadata": {},
   "outputs": [],
   "source": [
    "# data\n",
    "sample = \" hihello\"\n",
    "char_set = list(set(sample))\n",
    "char_dic = {c: i for i, c in enumerate(char_set)}"
   ]
  },
  {
   "cell_type": "code",
   "execution_count": 148,
   "metadata": {},
   "outputs": [],
   "source": [
    "# hyper parameters\n",
    "dic_size = len(char_dic)\n",
    "hidden_size = len(char_dic)\n",
    "learning_rate = 0.1"
   ]
  },
  {
   "cell_type": "code",
   "execution_count": 149,
   "metadata": {},
   "outputs": [],
   "source": [
    "# data setting\n",
    "sample_idx = [char_dic[c] for c in sample]\n",
    "x_data = [sample_idx[:-1]]\n",
    "x_one_hot = [np.eye(dic_size)[x] for x in x_data]\n",
    "y_data = [sample_idx[1:]]"
   ]
  },
  {
   "cell_type": "code",
   "execution_count": 150,
   "metadata": {},
   "outputs": [],
   "source": [
    "# transform as torch tensor variable\n",
    "X = torch.FloatTensor(x_one_hot)\n",
    "Y = torch.LongTensor(y_data)"
   ]
  },
  {
   "cell_type": "code",
   "execution_count": 151,
   "metadata": {},
   "outputs": [
    {
     "data": {
      "text/plain": [
       "(torch.Size([1, 7, 6]), torch.Size([1, 7]))"
      ]
     },
     "execution_count": 151,
     "metadata": {},
     "output_type": "execute_result"
    }
   ],
   "source": [
    "X.shape, Y.shape"
   ]
  },
  {
   "cell_type": "code",
   "execution_count": 270,
   "metadata": {},
   "outputs": [
    {
     "data": {
      "text/plain": [
       "RNN(6, 6, batch_first=True)"
      ]
     },
     "execution_count": 270,
     "metadata": {},
     "output_type": "execute_result"
    }
   ],
   "source": [
    "# declare RNN\n",
    "rnn = nn.RNN(dic_size, hidden_size, batch_first=True)\n",
    "rnn"
   ]
  },
  {
   "cell_type": "code",
   "execution_count": 271,
   "metadata": {},
   "outputs": [],
   "source": [
    "# loss & optimizer setting\n",
    "criterion = nn.CrossEntropyLoss()\n",
    "optimizer = optim.Adam(rnn.parameters(), learning_rate)"
   ]
  },
  {
   "cell_type": "code",
   "execution_count": 272,
   "metadata": {
    "scrolled": false
   },
   "outputs": [
    {
     "name": "stdout",
     "output_type": "stream",
     "text": [
      "0 cost:  1.785338 prediction str:  eholhoo\n",
      "10 cost:  0.80626357 prediction str:  hihello\n",
      "20 cost:  0.6313711 prediction str:  hihello\n",
      "30 cost:  0.5934474 prediction str:  hihello\n",
      "40 cost:  0.577256 prediction str:  hihello\n",
      "50 cost:  0.5692044 prediction str:  hihello\n",
      "60 cost:  0.5642274 prediction str:  hihello\n",
      "70 cost:  0.5607892 prediction str:  hihello\n",
      "80 cost:  0.55814224 prediction str:  hihello\n",
      "90 cost:  0.55599105 prediction str:  hihello\n"
     ]
    }
   ],
   "source": [
    "# start training\n",
    "for i in range(100):\n",
    "    outputs, _status = rnn(X)\n",
    "    cost = criterion(outputs.view(-1, dic_size), Y.view(-1))\n",
    "\n",
    "    optimizer.zero_grad()\n",
    "    cost.backward()\n",
    "    optimizer.step()\n",
    "\n",
    "    result = outputs.argmax(dim=2)\n",
    "    result_str = ''.join([char_set[c] for c in result.squeeze().numpy()])\n",
    "    if i % 10 == 0:\n",
    "        print(i, \"cost: \", cost.data.numpy(), \"prediction str: \", result_str)"
   ]
  },
  {
   "cell_type": "markdown",
   "metadata": {},
   "source": [
    "# Ex) Long Sequence"
   ]
  },
  {
   "cell_type": "code",
   "execution_count": 286,
   "metadata": {},
   "outputs": [],
   "source": [
    "# raw data\n",
    "sentence = (\"if you want to build a ship, don't drum up people together to \"\n",
    "            \"collect wood and don't assign them tasks and work, but rather \"\n",
    "            \"teach them to long for the endless immensity of the sea.\")"
   ]
  },
  {
   "cell_type": "code",
   "execution_count": 278,
   "metadata": {},
   "outputs": [],
   "source": [
    "idx2char = list(set(sentence))\n",
    "char2idx = {c:i for i, c in enumerate(idx2char)}"
   ]
  },
  {
   "cell_type": "code",
   "execution_count": 335,
   "metadata": {},
   "outputs": [],
   "source": [
    "# constants\n",
    "input_size = len(char2idx)\n",
    "output_size = len(char2idx)\n",
    "sequnce_length = 10\n",
    "learning_rate = 0.01"
   ]
  },
  {
   "cell_type": "code",
   "execution_count": 336,
   "metadata": {},
   "outputs": [],
   "source": [
    "# data setting\n",
    "x_data = []\n",
    "y_data = []\n",
    "\n",
    "for i in range(len(sentence) - sequence_length):\n",
    "    x_data.append([char2idx[c] for c in sentence[i: i + sequence_length]])\n",
    "    y_data.append([char2idx[c] for c in sentence[i+1: i + sequence_length + 1]])\n",
    "\n",
    "x_one_hot = [np.eye(input_size)[x] for x in x_data]"
   ]
  },
  {
   "cell_type": "code",
   "execution_count": 337,
   "metadata": {},
   "outputs": [
    {
     "data": {
      "text/plain": [
       "(torch.Size([170, 10, 25]), torch.Size([170, 10]))"
      ]
     },
     "execution_count": 337,
     "metadata": {},
     "output_type": "execute_result"
    }
   ],
   "source": [
    "X = torch.FloatTensor(x_one_hot)\n",
    "Y = torch.LongTensor(y_data)\n",
    "\n",
    "X.shape, Y.shape"
   ]
  },
  {
   "cell_type": "code",
   "execution_count": 458,
   "metadata": {},
   "outputs": [],
   "source": [
    "# model\n",
    "class Seq2SeqRnn(nn.Module):\n",
    "    def __init__(self, input_size, output_size, layers):\n",
    "        super(Seq2SeqRnn, self).__init__()\n",
    "        self.rnn = nn.RNN(input_size, output_size, num_layers=layers, batch_first=True)\n",
    "        self.fc = nn.Linear(output_size, output_size, bias=True)\n",
    "    \n",
    "    def forward(self, x):\n",
    "        out, _status = self.rnn(x)\n",
    "        print(out.shape)\n",
    "        out = self.fc(out)\n",
    "        print(out.shape)\n",
    "        return out"
   ]
  },
  {
   "cell_type": "code",
   "execution_count": 459,
   "metadata": {},
   "outputs": [],
   "source": [
    "model = Seq2SeqRnn(input_size, output_size, 4)"
   ]
  },
  {
   "cell_type": "code",
   "execution_count": 460,
   "metadata": {},
   "outputs": [
    {
     "data": {
      "text/plain": [
       "Seq2SeqRnn(\n",
       "  (rnn): RNN(25, 25, num_layers=4, batch_first=True)\n",
       "  (fc): Linear(in_features=25, out_features=25, bias=True)\n",
       ")"
      ]
     },
     "execution_count": 460,
     "metadata": {},
     "output_type": "execute_result"
    }
   ],
   "source": [
    "model"
   ]
  },
  {
   "cell_type": "code",
   "execution_count": 461,
   "metadata": {},
   "outputs": [
    {
     "name": "stdout",
     "output_type": "stream",
     "text": [
      "torch.Size([10, 7, 25])\n",
      "torch.Size([10, 7, 25])\n"
     ]
    },
    {
     "data": {
      "text/plain": [
       "tensor([[[-3.0347e-02, -1.6490e-01,  8.8034e-02,  ..., -1.5329e-01,\n",
       "           2.6490e-01,  2.9923e-01],\n",
       "         [ 9.0606e-02, -1.6130e-01,  1.0084e-02,  ..., -3.0234e-01,\n",
       "           1.6492e-01,  4.5132e-01],\n",
       "         [-7.8708e-02, -1.8995e-01,  3.0909e-01,  ..., -2.8729e-01,\n",
       "           1.4487e-02,  2.3823e-01],\n",
       "         ...,\n",
       "         [-6.6306e-02, -7.3765e-02, -6.7330e-02,  ..., -3.5411e-01,\n",
       "           3.4090e-01,  3.8405e-01],\n",
       "         [ 4.1509e-02, -2.9410e-01,  2.3255e-01,  ..., -4.5329e-01,\n",
       "           2.2450e-01,  3.6393e-01],\n",
       "         [-1.2384e-01, -2.8229e-01,  2.3267e-01,  ..., -2.1551e-01,\n",
       "           2.9708e-02,  2.8109e-01]],\n",
       "\n",
       "        [[ 1.1923e-02, -1.5603e-01,  7.3287e-02,  ..., -2.0609e-01,\n",
       "           2.3043e-01,  3.7064e-01],\n",
       "         [ 1.3511e-01, -1.1669e-01,  1.0412e-01,  ..., -3.7979e-01,\n",
       "           1.4445e-01,  4.3372e-01],\n",
       "         [ 5.5976e-02, -1.8627e-01,  2.3233e-01,  ..., -3.4476e-01,\n",
       "           1.2706e-01,  3.8075e-01],\n",
       "         ...,\n",
       "         [-1.6690e-01, -4.5772e-02,  2.3867e-02,  ..., -1.0919e-01,\n",
       "           7.3495e-02,  2.3726e-01],\n",
       "         [-1.3471e-01, -8.7999e-02, -2.7791e-05,  ..., -6.1739e-02,\n",
       "           2.6415e-02,  2.0369e-01],\n",
       "         [-1.4377e-01, -1.4116e-01,  3.4508e-02,  ..., -5.7586e-02,\n",
       "          -5.0230e-03,  3.4011e-01]],\n",
       "\n",
       "        [[-1.2144e-01, -1.0091e-01,  7.8102e-02,  ..., -3.9470e-03,\n",
       "           3.5492e-02,  2.0626e-01],\n",
       "         [-1.1974e-01, -1.7957e-01,  6.6311e-02,  ..., -3.1566e-02,\n",
       "           1.1328e-01,  1.5450e-01],\n",
       "         [-3.3860e-02, -1.5666e-01, -5.5579e-02,  ..., -3.1083e-01,\n",
       "           4.7960e-02,  3.3452e-01],\n",
       "         ...,\n",
       "         [ 4.2969e-02, -3.4412e-02,  1.9115e-01,  ..., -6.2536e-02,\n",
       "          -1.5128e-01,  5.3572e-01],\n",
       "         [-3.4697e-02, -1.3099e-01,  2.2471e-01,  ..., -2.1686e-02,\n",
       "           1.0683e-01,  1.9512e-01],\n",
       "         [-9.5702e-02, -1.8231e-01, -8.9955e-02,  ..., -2.7184e-01,\n",
       "           6.3821e-03,  2.9150e-01]],\n",
       "\n",
       "        ...,\n",
       "\n",
       "        [[-2.4192e-01, -2.5212e-02,  1.1391e-01,  ..., -7.3675e-02,\n",
       "           9.9946e-02,  1.7119e-01],\n",
       "         [-1.1102e-01, -6.0360e-02, -6.8686e-02,  ..., -3.2474e-02,\n",
       "          -1.0151e-02,  2.1401e-01],\n",
       "         [-1.6130e-01, -9.8475e-02,  5.0338e-02,  ..., -1.4066e-01,\n",
       "           1.0268e-01,  1.3056e-01],\n",
       "         ...,\n",
       "         [ 1.3583e-02, -6.0416e-02,  1.6287e-01,  ..., -4.4295e-02,\n",
       "           2.6885e-02,  2.7001e-01],\n",
       "         [-9.2302e-03,  2.1706e-03,  1.0872e-01,  ..., -5.4912e-02,\n",
       "           3.5921e-02,  4.2197e-01],\n",
       "         [-4.1909e-02, -3.5547e-02,  5.4393e-02,  ..., -1.0040e-01,\n",
       "           8.6531e-04,  3.8378e-01]],\n",
       "\n",
       "        [[-3.4683e-02, -1.5908e-01,  1.9523e-01,  ..., -1.2394e-01,\n",
       "           1.5523e-01,  1.4776e-01],\n",
       "         [-7.2950e-02, -1.0202e-01,  2.3328e-02,  ..., -2.6542e-01,\n",
       "           1.3779e-01,  1.8973e-01],\n",
       "         [-7.5301e-02, -2.0555e-01,  7.5998e-02,  ...,  3.6809e-02,\n",
       "          -1.1978e-01,  4.5509e-01],\n",
       "         ...,\n",
       "         [-3.0154e-01, -6.2350e-02,  8.1049e-02,  ..., -3.7497e-02,\n",
       "           1.1073e-01,  3.9646e-01],\n",
       "         [-1.0693e-01, -1.1556e-01,  8.8771e-02,  ..., -1.3127e-01,\n",
       "           5.6498e-02,  1.3776e-01],\n",
       "         [ 1.9313e-02,  1.0635e-03, -5.2052e-03,  ..., -2.3397e-01,\n",
       "           8.9449e-02,  4.4200e-01]],\n",
       "\n",
       "        [[-3.6247e-02, -1.4161e-01,  2.5477e-02,  ..., -2.1100e-01,\n",
       "           2.5202e-01,  3.6135e-01],\n",
       "         [ 4.1137e-02, -9.0537e-02,  9.8023e-02,  ..., -2.5759e-01,\n",
       "           1.3281e-01,  3.2018e-01],\n",
       "         [ 2.8022e-02, -9.0994e-02,  2.1369e-01,  ..., -6.8820e-02,\n",
       "          -8.4804e-02,  3.9702e-01],\n",
       "         ...,\n",
       "         [-7.6563e-02, -1.4832e-01,  1.2203e-01,  ..., -6.4888e-02,\n",
       "          -1.5644e-02,  3.0078e-01],\n",
       "         [-1.0945e-01, -1.3240e-01,  1.0795e-01,  ..., -1.3540e-01,\n",
       "           7.2065e-02,  3.9305e-01],\n",
       "         [-6.8816e-02, -1.5697e-04, -8.3001e-02,  ...,  5.3461e-02,\n",
       "           2.5429e-03,  2.9854e-01]]], grad_fn=<AddBackward0>)"
      ]
     },
     "execution_count": 461,
     "metadata": {},
     "output_type": "execute_result"
    }
   ],
   "source": [
    "model(torch.Tensor(10,7,25))"
   ]
  },
  {
   "cell_type": "code",
   "execution_count": 346,
   "metadata": {},
   "outputs": [],
   "source": [
    "# loss and optimizer\n",
    "criterion = nn.CrossEntropyLoss()\n",
    "optimizer = optim.Adam(model.parameters(), learning_rate)"
   ]
  },
  {
   "cell_type": "code",
   "execution_count": 347,
   "metadata": {},
   "outputs": [
    {
     "name": "stdout",
     "output_type": "stream",
     "text": [
      "t you want to build a ship, don't drum up people together to collect wood and don't assign them tasks and work, but rather teach them to long for the endless immensity of the sea.\n",
      "l you want to build a ship, don't drum up people together to collect wood and don't assign them tasks and work, but rather teach them to long for the endless immensity of the sea.\n",
      "l you want to build a ship, don't drum up people together to collect wood and don't assign them tasks and work, but rather teach them to long for the endless immensity of the sea.\n",
      "p you want to build a ship, don't drum up people together to collect wood and don't assign them tasks and work, but rather teach them to long for the endless immensity of the sea.\n",
      "l you want to build a ship, don't drum up people together to collect wood and don't assign them tasks and work, but rather teach them to long for the endless immensity of the sea.\n",
      "t you want to build a ship, don't drum up people together to collect wood and don't assign them tasks and work, but rather teach them to long for the endless immensity of the sea.\n",
      "m you want to build a ship, don't drum up people together to collect wood and don't assign them tasks and work, but rather teach them to long for the endless immensity of the sea.\n",
      "l you want to build a ship, don't drum up people together to collect wood and don't assign them tasks and work, but rather teach them to long for the endless immensity of the sea.\n",
      "t you want to build a ship, don't drum up people together to collect wood and don't assign them tasks and work, but rather teach them to long for the endless immensity of the sea.\n",
      "t you want to build a ship, don't drum up people together to collect wood and don't assign them tasks and work, but rather teach them to long for the endless immensity of the sea.\n"
     ]
    }
   ],
   "source": [
    "# train\n",
    "nb_epochs = 10000\n",
    "\n",
    "for epoch in range(1, nb_epochs + 1):\n",
    "    \n",
    "    hypothesis = model(X)\n",
    "    cost = criterion(hypothesis.view(-1, output_size), Y.view(-1))\n",
    "    \n",
    "    optimizer.zero_grad()\n",
    "    cost.backward()\n",
    "    optimizer.step()\n",
    "    \n",
    "    if epoch % 1000 == 0:\n",
    "        results = hypothesis.argmax(dim=2)\n",
    "        predicted_str = \"\"\n",
    "        \n",
    "        for i, result in enumerate(results):\n",
    "            if i == 0:\n",
    "                predicted_str += ''.join([idx2char[c] for c in result])\n",
    "            else:\n",
    "                predicted_str += idx2char[result[-1]]\n",
    "        \n",
    "        print(predicted_str)"
   ]
  },
  {
   "cell_type": "markdown",
   "metadata": {},
   "source": [
    "# Ex) Time Series"
   ]
  },
  {
   "cell_type": "code",
   "execution_count": 569,
   "metadata": {},
   "outputs": [],
   "source": [
    "def minmax_scaler(data):\n",
    "    numerator = data - np.min(data, 0)\n",
    "    denominator = np.max(data, 0) - np.min(data, 0)\n",
    "    return numerator / (denominator + 1e-7)"
   ]
  },
  {
   "cell_type": "code",
   "execution_count": 570,
   "metadata": {},
   "outputs": [],
   "source": [
    "# make dataset to input\n",
    "def build_dataset(time_series, seq_length):\n",
    "    dataX = []\n",
    "    dataY = []\n",
    "    for i in range(0, len(time_series) - seq_length):\n",
    "        _x = time_series[i:i + seq_length, :]\n",
    "        _y = time_series[i + seq_length, [-1]]\n",
    "        dataX.append(_x)\n",
    "        dataY.append(_y)\n",
    "    return np.array(dataX), np.array(dataY)"
   ]
  },
  {
   "cell_type": "code",
   "execution_count": 571,
   "metadata": {},
   "outputs": [],
   "source": [
    "data = pd.read_csv('./samples/stocks.csv', header=None)\n",
    "data.columns = ['open', 'high', 'low', 'volume', 'close']\n",
    "data = data.values\n",
    "data = data[::-1]"
   ]
  },
  {
   "cell_type": "code",
   "execution_count": 572,
   "metadata": {},
   "outputs": [],
   "source": [
    "train_size = int(len(data) * 0.7)\n",
    "train_data = data[0:train_size]\n",
    "test_data = data[train_size-sequence_length:]"
   ]
  },
  {
   "cell_type": "code",
   "execution_count": 573,
   "metadata": {},
   "outputs": [],
   "source": [
    "train_data = minmax_scaler(train_data)\n",
    "test_data = minmax_scaler(test_data)"
   ]
  },
  {
   "cell_type": "code",
   "execution_count": 574,
   "metadata": {},
   "outputs": [],
   "source": [
    "# constants\n",
    "input_shape = 5\n",
    "hidden_shape = 10\n",
    "output_shape = 1\n",
    "sequence_length = 7\n",
    "learning_rate = 0.01\n",
    "nb_epochs = 500"
   ]
  },
  {
   "cell_type": "code",
   "execution_count": 575,
   "metadata": {},
   "outputs": [],
   "source": [
    "x_train, y_train = build_dataset(train_data, sequence_length)\n",
    "x_test, y_test = build_dataset(test_data, sequence_length)"
   ]
  },
  {
   "cell_type": "code",
   "execution_count": 576,
   "metadata": {},
   "outputs": [
    {
     "data": {
      "text/plain": [
       "(torch.Size([505, 7, 5]),\n",
       " torch.Size([220, 7, 5]),\n",
       " torch.Size([505, 1]),\n",
       " torch.Size([220, 1]))"
      ]
     },
     "execution_count": 576,
     "metadata": {},
     "output_type": "execute_result"
    }
   ],
   "source": [
    "# convert to tensor\n",
    "trainX_tensor = torch.FloatTensor(x_train)\n",
    "trainY_tensor = torch.FloatTensor(y_train)\n",
    "\n",
    "testX_tensor = torch.FloatTensor(x_test)\n",
    "testY_tensor = torch.FloatTensor(y_test)\n",
    "\n",
    "trainX_tensor.shape, testX_tensor.shape, trainY_tensor.shape, testY_tensor.shape"
   ]
  },
  {
   "cell_type": "code",
   "execution_count": 577,
   "metadata": {},
   "outputs": [],
   "source": [
    "class Many2OneRNN(nn.Module):\n",
    "    def __init__(self, input_shape, hidden_shape, output_shape, layers):\n",
    "        super(Many2OneRNN, self).__init__()\n",
    "        \n",
    "        self.rnn = nn.LSTM(input_shape, hidden_shape, num_layers=layers, batch_first=True)\n",
    "        self.fc = nn.Linear(hidden_shape, output_shape, bias=True)\n",
    "        \n",
    "    def forward(self, x):\n",
    "        outs, _states = self.rnn(x)\n",
    "        outs = self.fc(outs[:,-1])\n",
    "        return outs\n",
    "        "
   ]
  },
  {
   "cell_type": "code",
   "execution_count": 582,
   "metadata": {},
   "outputs": [
    {
     "data": {
      "text/plain": [
       "Many2OneRNN(\n",
       "  (rnn): LSTM(5, 10, num_layers=2, batch_first=True)\n",
       "  (fc): Linear(in_features=10, out_features=1, bias=True)\n",
       ")"
      ]
     },
     "execution_count": 582,
     "metadata": {},
     "output_type": "execute_result"
    }
   ],
   "source": [
    "model = Many2OneRNN(input_shape, hidden_shape, output_shape, 2)\n",
    "model"
   ]
  },
  {
   "cell_type": "code",
   "execution_count": 583,
   "metadata": {},
   "outputs": [],
   "source": [
    "# loss and optimizer\n",
    "criterion = nn.MSELoss()\n",
    "optimizer = optim.Adam(model.parameters(), learning_rate)"
   ]
  },
  {
   "cell_type": "code",
   "execution_count": 584,
   "metadata": {},
   "outputs": [
    {
     "name": "stdout",
     "output_type": "stream",
     "text": [
      "[tr COST]:  0.02797265 [val COST]:  0.023203934\n",
      "[tr COST]:  0.00331543 [val COST]:  0.0058387686\n",
      "[tr COST]:  0.0025906118 [val COST]:  0.0054488014\n",
      "[tr COST]:  0.002312128 [val COST]:  0.004588767\n",
      "[tr COST]:  0.0021616516 [val COST]:  0.004350167\n",
      "[tr COST]:  0.0020538536 [val COST]:  0.004149911\n",
      "[tr COST]:  0.0019623686 [val COST]:  0.003970063\n",
      "[tr COST]:  0.0018810214 [val COST]:  0.0038076472\n",
      "[tr COST]:  0.001807337 [val COST]:  0.0036579883\n",
      "[tr COST]:  0.001739486 [val COST]:  0.0035175562\n",
      "[tr COST]:  0.0016760405 [val COST]:  0.0033837946\n",
      "[tr COST]:  0.0016161279 [val COST]:  0.0032551917\n",
      "[tr COST]:  0.0015594534 [val COST]:  0.0031312457\n",
      "[tr COST]:  0.0015061385 [val COST]:  0.0030122327\n",
      "[tr COST]:  0.001456484 [val COST]:  0.0028989448\n",
      "[tr COST]:  0.0014108261 [val COST]:  0.0027925265\n"
     ]
    }
   ],
   "source": [
    "# start training\n",
    "for epoch in range(1, nb_epochs+1):\n",
    "    \n",
    "    hypothesis = model(trainX_tensor)\n",
    "    cost = criterion(hypothesis, trainY_tensor)\n",
    "    \n",
    "    optimizer.zero_grad()\n",
    "    cost.backward()\n",
    "    optimizer.step()\n",
    "    \n",
    "    if epoch % 30 == 0:\n",
    "        hypothesis_val = model(testX_tensor)\n",
    "        cost_val = criterion(hypothesis_val, testY_tensor)\n",
    "        print(\"[tr COST]: \", cost.data.numpy(), \"[val COST]: \", cost_val.data.numpy())"
   ]
  },
  {
   "cell_type": "code",
   "execution_count": 586,
   "metadata": {},
   "outputs": [
    {
     "data": {
      "image/png": "[encoded data removed]",
      "text/plain": [
       "<Figure size 864x432 with 1 Axes>"
      ]
     },
     "metadata": {
      "needs_background": "light"
     },
     "output_type": "display_data"
    }
   ],
   "source": [
    "plt.figure(figsize=(12,6))\n",
    "plt.plot(y_train)\n",
    "plt.plot(model(trainX_tensor).data.numpy())\n",
    "plt.legend(['original', 'prediction'])\n",
    "plt.show()"
   ]
  },
  {
   "cell_type": "code",
   "execution_count": 587,
   "metadata": {},
   "outputs": [
    {
     "data": {
      "image/png": "[encoded data removed]",
      "text/plain": [
       "<Figure size 864x432 with 1 Axes>"
      ]
     },
     "metadata": {
      "needs_background": "light"
     },
     "output_type": "display_data"
    }
   ],
   "source": [
    "plt.figure(figsize=(12,6))\n",
    "plt.plot(y_test)\n",
    "plt.plot(model(testX_tensor).data.numpy())\n",
    "plt.legend(['original', 'prediction'])\n",
    "plt.show()"
   ]
  }
 ],
 "metadata": {
  "kernelspec": {
   "display_name": "Python 3",
   "language": "python",
   "name": "python3"
  },
  "language_info": {
   "codemirror_mode": {
    "name": "ipython",
    "version": 3
   },
   "file_extension": ".py",
   "mimetype": "text/x-python",
   "name": "python",
   "nbconvert_exporter": "python",
   "pygments_lexer": "ipython3",
   "version": "3.6.7"
  }
 },
 "nbformat": 4,
 "nbformat_minor": 2
}
