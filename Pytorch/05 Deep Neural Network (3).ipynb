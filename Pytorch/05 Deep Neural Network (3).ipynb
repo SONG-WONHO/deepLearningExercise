{
 "cells": [
  {
   "cell_type": "markdown",
   "metadata": {},
   "source": [
    "# Deep Neural Network (3)\n",
    "\n",
    "* mnist\n",
    "* initializer\n",
    "* dropout\n",
    "* batch norm (New)"
   ]
  },
  {
   "cell_type": "markdown",
   "metadata": {},
   "source": [
    "* [강의출처](https://www.youtube.com/watch?v=HCEr5f-LfVE&list=PLQ28Nx3M4JrhkqBVIXg-i5_CVVoS1UzAv&index=17)\n",
    "* [코드출처](https://github.com/deeplearningzerotoall/PyTorch/blob/master/lab-09_6_mnist_batchnorm.ipynb)"
   ]
  },
  {
   "cell_type": "markdown",
   "metadata": {},
   "source": [
    "## Summary"
   ]
  },
  {
   "cell_type": "markdown",
   "metadata": {},
   "source": [
    "* batch norm을 진행할 때, train 해줬을 때의 배치사이즈로 test 배치 사이즈를 만들어 예측해야지 잘 예측됨."
   ]
  },
  {
   "cell_type": "code",
   "execution_count": 1,
   "metadata": {},
   "outputs": [],
   "source": [
    "import torch\n",
    "import torch.nn as nn\n",
    "import torch.nn.functional as F\n",
    "import torch.optim as optim\n",
    "\n",
    "import torchvision.datasets as dsets\n",
    "import torchvision.transforms as transforms"
   ]
  },
  {
   "cell_type": "code",
   "execution_count": 2,
   "metadata": {},
   "outputs": [],
   "source": [
    "device = 'cuda' if torch.cuda.is_available() else 'cpu'\n",
    "\n",
    "# for reproducibility\n",
    "torch.manual_seed(42)\n",
    "if device == 'cuda':\n",
    "    torch.cuda.manual_seed_all(42)"
   ]
  },
  {
   "cell_type": "markdown",
   "metadata": {},
   "source": [
    "## Dataset"
   ]
  },
  {
   "cell_type": "code",
   "execution_count": 3,
   "metadata": {},
   "outputs": [],
   "source": [
    "# MNIST dataset\n",
    "mnist_train = dsets.MNIST(root='MNIST_data/',\n",
    "                          train=True,\n",
    "                          transform=transforms.ToTensor(),\n",
    "                          download=True)\n",
    "\n",
    "mnist_test = dsets.MNIST(root='MNIST_data/',\n",
    "                         train=False,\n",
    "                         transform=transforms.ToTensor(),\n",
    "                         download=True)"
   ]
  },
  {
   "cell_type": "markdown",
   "metadata": {},
   "source": [
    "## Constants"
   ]
  },
  {
   "cell_type": "code",
   "execution_count": 4,
   "metadata": {},
   "outputs": [],
   "source": [
    "# parameters\n",
    "nb_epochs = 10\n",
    "batch_size = 32\n",
    "learning_rate = 0.01\n",
    "dims = 28 * 28\n",
    "labels = 10\n",
    "drop_rate = 0"
   ]
  },
  {
   "cell_type": "code",
   "execution_count": 5,
   "metadata": {},
   "outputs": [],
   "source": [
    "# dataset loader\n",
    "train_loader = torch.utils.data.DataLoader(dataset=mnist_train,\n",
    "                                          batch_size=batch_size,\n",
    "                                          shuffle=True,\n",
    "                                          drop_last=True)\n",
    "\n",
    "test_loader = torch.utils.data.DataLoader(dataset=mnist_test,\n",
    "                                          batch_size=batch_size,\n",
    "                                          shuffle=False,\n",
    "                                          drop_last=True)"
   ]
  },
  {
   "cell_type": "code",
   "execution_count": 6,
   "metadata": {},
   "outputs": [],
   "source": [
    "# model\n",
    "layer1 = nn.Linear(dims, 32, bias=True)\n",
    "layer2 = nn.Linear(32, 32, bias=True)\n",
    "layer3 = nn.Linear(32, 32, bias=True)\n",
    "layer4 = nn.Linear(32, labels, bias=True)\n",
    "activation = nn.ReLU()\n",
    "dropout = nn.Dropout(p=drop_rate)\n",
    "batch_norm1 = nn.BatchNorm1d(32)\n",
    "batch_norm2 = nn.BatchNorm1d(32)\n",
    "batch_norm3 = nn.BatchNorm1d(32)\n",
    "\n",
    "\n",
    "model = nn.Sequential(layer1, batch_norm1, activation, dropout,\n",
    "                      layer2, batch_norm2, activation, dropout,\n",
    "                      layer3, batch_norm3, activation, dropout,\n",
    "                      layer4\n",
    "                     ).to(device)"
   ]
  },
  {
   "cell_type": "code",
   "execution_count": 7,
   "metadata": {},
   "outputs": [],
   "source": [
    "# initializer\n",
    "def init_weights(layer):\n",
    "    if isinstance(layer, nn.Linear):\n",
    "        nn.init.xavier_normal_(layer.weight)"
   ]
  },
  {
   "cell_type": "code",
   "execution_count": 8,
   "metadata": {},
   "outputs": [
    {
     "data": {
      "text/plain": [
       "Sequential(\n",
       "  (0): Linear(in_features=784, out_features=32, bias=True)\n",
       "  (1): BatchNorm1d(32, eps=1e-05, momentum=0.1, affine=True, track_running_stats=True)\n",
       "  (2): ReLU()\n",
       "  (3): Dropout(p=0)\n",
       "  (4): Linear(in_features=32, out_features=32, bias=True)\n",
       "  (5): BatchNorm1d(32, eps=1e-05, momentum=0.1, affine=True, track_running_stats=True)\n",
       "  (6): ReLU()\n",
       "  (7): Dropout(p=0)\n",
       "  (8): Linear(in_features=32, out_features=32, bias=True)\n",
       "  (9): BatchNorm1d(32, eps=1e-05, momentum=0.1, affine=True, track_running_stats=True)\n",
       "  (10): ReLU()\n",
       "  (11): Dropout(p=0)\n",
       "  (12): Linear(in_features=32, out_features=10, bias=True)\n",
       ")"
      ]
     },
     "execution_count": 8,
     "metadata": {},
     "output_type": "execute_result"
    }
   ],
   "source": [
    "model.apply(init_weights)"
   ]
  },
  {
   "cell_type": "code",
   "execution_count": 9,
   "metadata": {},
   "outputs": [],
   "source": [
    "# optimizer\n",
    "optimizer = optim.Adam(model.parameters(), lr=learning_rate)"
   ]
  },
  {
   "cell_type": "code",
   "execution_count": 10,
   "metadata": {},
   "outputs": [
    {
     "name": "stdout",
     "output_type": "stream",
     "text": [
      "Epoch: 0001 cost = 0.310854107\n",
      "TEST ACC:  0.9526240229606628 \n",
      "\n",
      "Epoch: 0002 cost = 0.195059836\n",
      "TEST ACC:  0.9627398252487183 \n",
      "\n",
      "Epoch: 0003 cost = 0.163778320\n",
      "TEST ACC:  0.9619386792182922 \n",
      "\n",
      "Epoch: 0004 cost = 0.147405013\n",
      "TEST ACC:  0.9651436805725098 \n",
      "\n",
      "Epoch: 0005 cost = 0.133050516\n",
      "TEST ACC:  0.9698508977890015 \n",
      "\n",
      "Epoch: 0006 cost = 0.125474289\n",
      "TEST ACC:  0.9711530208587646 \n",
      "\n",
      "Epoch: 0007 cost = 0.120682582\n",
      "TEST ACC:  0.9719541668891907 \n",
      "\n",
      "Epoch: 0008 cost = 0.112345397\n",
      "TEST ACC:  0.9717543721199036 \n",
      "\n",
      "Epoch: 0009 cost = 0.107398607\n",
      "TEST ACC:  0.9713537096977234 \n",
      "\n",
      "Epoch: 0010 cost = 0.102540843\n",
      "TEST ACC:  0.9730561971664429 \n",
      "\n",
      "Learning finished\n"
     ]
    }
   ],
   "source": [
    "for epoch in range(nb_epochs):\n",
    "    # train mode - dropout, batch_norm\n",
    "    model.train()\n",
    "\n",
    "    avg_cost = 0\n",
    "    train_batch = len(train_loader)\n",
    "\n",
    "    for X, Y in train_loader:\n",
    "        X = X.view(-1, 28 * 28).to(device)\n",
    "        Y = Y.to(device)\n",
    "\n",
    "        hypothesis = model(X)\n",
    "        cost = F.cross_entropy(hypothesis, Y)\n",
    "        \n",
    "        optimizer.zero_grad()\n",
    "        cost.backward()\n",
    "        optimizer.step()\n",
    "\n",
    "        avg_cost += cost / train_batch\n",
    "        \n",
    "    print('Epoch:', '%04d' % (epoch + 1), 'cost =', '{:.9f}'.format(avg_cost))\n",
    "    \n",
    "    with torch.no_grad():\n",
    "        # evaluation mode\n",
    "        model.eval()\n",
    "        \n",
    "        acc = 0\n",
    "        test_batch = len(test_loader)\n",
    "        \n",
    "        # cause of batch normalization\n",
    "        for i, (X, Y) in enumerate(test_loader):\n",
    "            X = X.view(-1, 28 * 28).to(device)\n",
    "            Y = Y.to(device)\n",
    "\n",
    "            prediction = model(X)\n",
    "            correct_prediction = torch.argmax(prediction, 1) == Y\n",
    "            acc += correct_prediction.float().mean() / test_batch\n",
    "        \n",
    "        print(\"TEST ACC: \", acc.item(), '\\n')\n",
    "\n",
    "print('Learning finished')"
   ]
  }
 ],
 "metadata": {
  "kernelspec": {
   "display_name": "Python 3",
   "language": "python",
   "name": "python3"
  },
  "language_info": {
   "codemirror_mode": {
    "name": "ipython",
    "version": 3
   },
   "file_extension": ".py",
   "mimetype": "text/x-python",
   "name": "python",
   "nbconvert_exporter": "python",
   "pygments_lexer": "ipython3",
   "version": "3.6.7"
  }
 },
 "nbformat": 4,
 "nbformat_minor": 2
}
